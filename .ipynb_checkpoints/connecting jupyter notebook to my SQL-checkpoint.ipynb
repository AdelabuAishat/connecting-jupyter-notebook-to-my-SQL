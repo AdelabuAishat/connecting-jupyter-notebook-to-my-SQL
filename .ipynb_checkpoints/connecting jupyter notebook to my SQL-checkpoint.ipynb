{
 "cells": [
  {
   "cell_type": "markdown",
   "id": "594e6f13",
   "metadata": {},
   "source": [
    "# they are good at what they do"
   ]
  },
  {
   "cell_type": "code",
   "execution_count": 2,
   "id": "0f3c3610",
   "metadata": {},
   "outputs": [],
   "source": [
    "x = 1\n",
    "y = 5"
   ]
  },
  {
   "cell_type": "code",
   "execution_count": 7,
   "id": "5de770ca",
   "metadata": {},
   "outputs": [
    {
     "ename": "SyntaxError",
     "evalue": "cannot assign to operator (3927071043.py, line 2)",
     "output_type": "error",
     "traceback": [
      "\u001b[1;36m  File \u001b[1;32m\"C:\\Users\\User\\AppData\\Local\\Temp\\ipykernel_6936\\3927071043.py\"\u001b[1;36m, line \u001b[1;32m2\u001b[0m\n\u001b[1;33m    1+5=\u001b[0m\n\u001b[1;37m    ^\u001b[0m\n\u001b[1;31mSyntaxError\u001b[0m\u001b[1;31m:\u001b[0m cannot assign to operator\n"
     ]
    }
   ],
   "source": [
    "print (x and y)\n",
    "1+5="
   ]
  },
  {
   "cell_type": "code",
   "execution_count": 8,
   "id": "0782e596",
   "metadata": {},
   "outputs": [],
   "source": [
    "import pandas as pd\n",
    "import numpy as np"
   ]
  },
  {
   "cell_type": "code",
   "execution_count": 18,
   "id": "4368afcf",
   "metadata": {},
   "outputs": [],
   "source": [
    "import mysql.connector"
   ]
  },
  {
   "cell_type": "code",
   "execution_count": 16,
   "id": "b32b600e",
   "metadata": {},
   "outputs": [
    {
     "name": "stdout",
     "output_type": "stream",
     "text": [
      "Requirement already satisfied: mysql-connector-python in c:\\users\\user\\anaconda3\\lib\\site-packages (8.0.33)\n",
      "Requirement already satisfied: protobuf<=3.20.3,>=3.11.0 in c:\\users\\user\\anaconda3\\lib\\site-packages (from mysql-connector-python) (3.20.3)\n",
      "Note: you may need to restart the kernel to use updated packages.\n"
     ]
    }
   ],
   "source": [
    "pip install mysql-connector-python"
   ]
  },
  {
   "cell_type": "markdown",
   "id": "975df7fe",
   "metadata": {},
   "source": [
    "# step require to connect to mysql"
   ]
  },
  {
   "cell_type": "code",
   "execution_count": 20,
   "id": "bd963ddb",
   "metadata": {},
   "outputs": [],
   "source": [
    "import pandas as pd\n",
    "import numpy as np\n",
    "import mysql.connector as mc"
   ]
  },
  {
   "cell_type": "markdown",
   "id": "43de23ea",
   "metadata": {},
   "source": [
    "# step1 to connect to database server"
   ]
  },
  {
   "cell_type": "code",
   "execution_count": 24,
   "id": "8e1f54c5",
   "metadata": {},
   "outputs": [],
   "source": [
    "connection = mc. connect(user=\"root\",host=\"localhost\",password=\"123456789\")"
   ]
  },
  {
   "cell_type": "code",
   "execution_count": null,
   "id": "bb40b8b7",
   "metadata": {},
   "outputs": [],
   "source": []
  },
  {
   "cell_type": "markdown",
   "id": "5edff58b",
   "metadata": {},
   "source": [
    "# step2: To get access"
   ]
  },
  {
   "cell_type": "code",
   "execution_count": null,
   "id": "bcbcd176",
   "metadata": {},
   "outputs": [],
   "source": [
    "cur = connection \n",
    "mysql__query1"
   ]
  },
  {
   "cell_type": "code",
   "execution_count": null,
   "id": "e5c4c090",
   "metadata": {},
   "outputs": [],
   "source": []
  }
 ],
 "metadata": {
  "kernelspec": {
   "display_name": "Python 3 (ipykernel)",
   "language": "python",
   "name": "python3"
  },
  "language_info": {
   "codemirror_mode": {
    "name": "ipython",
    "version": 3
   },
   "file_extension": ".py",
   "mimetype": "text/x-python",
   "name": "python",
   "nbconvert_exporter": "python",
   "pygments_lexer": "ipython3",
   "version": "3.9.13"
  }
 },
 "nbformat": 4,
 "nbformat_minor": 5
}
